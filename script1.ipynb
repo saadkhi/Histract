{
  "nbformat": 4,
  "nbformat_minor": 0,
  "metadata": {
    "colab": {
      "provenance": [],
      "authorship_tag": "ABX9TyP0OClidS8Xkh8NEvQeC2VR",
      "include_colab_link": true
    },
    "kernelspec": {
      "name": "python3",
      "display_name": "Python 3"
    },
    "language_info": {
      "name": "python"
    }
  },
  "cells": [
    {
      "cell_type": "markdown",
      "metadata": {
        "id": "view-in-github",
        "colab_type": "text"
      },
      "source": [
        "<a href=\"https://colab.research.google.com/github/saadkhi/Histract/blob/Saaday/script1.ipynb\" target=\"_parent\"><img src=\"https://colab.research.google.com/assets/colab-badge.svg\" alt=\"Open In Colab\"/></a>"
      ]
    },
    {
      "cell_type": "code",
      "source": [
        "# Step 1: Mount Google Drive\n",
        "from google.colab import drive\n",
        "drive.mount('/content/drive')\n",
        "pdf_path = \"/content/drive/MyDrive/Mendo - Principe perfecto.pdf\"\n"
      ],
      "metadata": {
        "id": "07mtLYBfqtv_"
      },
      "execution_count": null,
      "outputs": []
    },
    {
      "cell_type": "code",
      "execution_count": null,
      "metadata": {
        "id": "HIv8yx7s2pBW"
      },
      "outputs": [],
      "source": [
        "# Install necessary packages\n",
        "!pip install PyPDF2 transformers --quiet\n",
        "\n",
        "# Import packages\n",
        "import PyPDF2\n",
        "from transformers import pipeline\n",
        "\n",
        "# Define function to extract PDF text\n",
        "def extract_text_from_pdf(pdf_path):\n",
        "    text = \"\"\n",
        "    with open(pdf_path, 'rb') as file:\n",
        "        pdf = PyPDF2.PdfReader(file)\n",
        "        for page in pdf.pages:\n",
        "            page_text = page.extract_text()\n",
        "            if page_text:\n",
        "                text += page_text + \"\\n\"\n",
        "    return text.strip()\n",
        "\n",
        "# Define function to summarize with LLM\n",
        "def summarize_text(text):\n",
        "    summarizer = pipeline(\"summarization\", model=\"sshleifer/distilbart-cnn-12-6\")\n",
        "\n",
        "    max_chunk = 800\n",
        "    chunks = [text[i:i+max_chunk] for i in range(0, len(text), max_chunk)]\n",
        "\n",
        "    summaries = []\n",
        "    for chunk in chunks:\n",
        "        summary = summarizer(chunk, max_length=120, min_length=30, do_sample=False)\n",
        "        summaries.append(summary[0]['summary_text'])\n",
        "\n",
        "    return \"\\n\\n\".join(summaries)\n",
        "\n",
        "# Path to your PDF in Google Drive\n",
        "pdf_path = \"/content/drive/MyDrive/Mendo - Principe perfecto.pdf\"\n",
        "\n",
        "# Process\n",
        "raw_text = extract_text_from_pdf(pdf_path)\n",
        "readable_summary = summarize_text(raw_text)\n",
        "\n",
        "# Output\n",
        "print(\"=== 📘 Readable Summary ===\\n\")\n",
        "print(readable_summary)\n"
      ]
    }
  ]
}