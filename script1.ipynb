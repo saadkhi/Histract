{
  "nbformat": 4,
  "nbformat_minor": 0,
  "metadata": {
    "colab": {
      "provenance": [],
      "authorship_tag": "ABX9TyP2s+QwINKNTo8ta93AUsl/",
      "include_colab_link": true
    },
    "kernelspec": {
      "name": "python3",
      "display_name": "Python 3"
    },
    "language_info": {
      "name": "python"
    }
  },
  "cells": [
    {
      "cell_type": "markdown",
      "metadata": {
        "id": "view-in-github",
        "colab_type": "text"
      },
      "source": [
        "<a href=\"https://colab.research.google.com/github/saadkhi/Histract/blob/Saaday/script1.ipynb\" target=\"_parent\"><img src=\"https://colab.research.google.com/assets/colab-badge.svg\" alt=\"Open In Colab\"/></a>"
      ]
    },
    {
      "cell_type": "code",
      "execution_count": null,
      "metadata": {
        "id": "HIv8yx7s2pBW"
      },
      "outputs": [],
      "source": [
        "# Step 1: Install dependencies\n",
        "!pip install PyPDF2 transformers --quiet\n",
        "\n",
        "# Step 2: Import libraries\n",
        "import PyPDF2\n",
        "from transformers import pipeline\n",
        "from google.colab import files\n",
        "\n",
        "# Step 3: Upload PDF file\n",
        "uploaded = files.upload()\n",
        "\n",
        "# Get the uploaded file name\n",
        "pdf_path = list(uploaded.keys())[0]\n",
        "\n",
        "# Step 4: Extract text from PDF\n",
        "def extract_text_from_pdf(pdf_path):\n",
        "    text = \"\"\n",
        "    with open(pdf_path, 'rb') as file:\n",
        "        pdf = PyPDF2.PdfReader(file)\n",
        "        for page in pdf.pages:\n",
        "            text += page.extract_text() + \"\\n\"\n",
        "    return text.strip()\n",
        "\n",
        "# Step 5: Use LLM (summarization model)\n",
        "def summarize_text(text):\n",
        "    summarizer = pipeline(\"summarization\", model=\"sshleifer/distilbart-cnn-12-6\")\n",
        "\n",
        "    # Break text into smaller chunks\n",
        "    max_chunk = 800\n",
        "    text_chunks = [text[i:i+max_chunk] for i in range(0, len(text), max_chunk)]\n",
        "\n",
        "    summaries = []\n",
        "    for chunk in text_chunks:\n",
        "        summary = summarizer(chunk, max_length=120, min_length=30, do_sample=False)[0]['summary_text']\n",
        "        summaries.append(summary)\n",
        "\n",
        "    return \"\\n\\n\".join(summaries)\n",
        "\n",
        "# Step 6: Run everything\n",
        "raw_text = extract_text_from_pdf(pdf_path)\n",
        "readable_text = summarize_text(raw_text)\n",
        "\n",
        "# Step 7: Display result\n",
        "print(\"=== 📖 Readable Summary ===\\n\")\n",
        "print(readable_text)\n"
      ]
    }
  ]
}