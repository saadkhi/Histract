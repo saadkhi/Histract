{
  "nbformat": 4,
  "nbformat_minor": 0,
  "metadata": {
    "colab": {
      "provenance": [],
      "authorship_tag": "ABX9TyOHDXHLeDDhkq8fgXp+/Csa",
      "include_colab_link": true
    },
    "kernelspec": {
      "name": "python3",
      "display_name": "Python 3"
    },
    "language_info": {
      "name": "python"
    }
  },
  "cells": [
    {
      "cell_type": "markdown",
      "metadata": {
        "id": "view-in-github",
        "colab_type": "text"
      },
      "source": [
        "<a href=\"https://colab.research.google.com/github/saadkhi/Histract/blob/Saaday/PDF_extract.ipynb\" target=\"_parent\"><img src=\"https://colab.research.google.com/assets/colab-badge.svg\" alt=\"Open In Colab\"/></a>"
      ]
    },
    {
      "cell_type": "code",
      "source": [
        "# Step 1: Mount Google Drive\n",
        "from google.colab import drive\n",
        "drive.mount('/content/drive')\n",
        "pdf_path = \"/content/drive/MyDrive/Mendo - Principe perfecto.pdf\"\n"
      ],
      "metadata": {
        "id": "07mtLYBfqtv_",
        "colab": {
          "base_uri": "https://localhost:8080/"
        },
        "outputId": "d2647e3f-803c-40f1-ab1d-b911674f301d"
      },
      "execution_count": null,
      "outputs": [
        {
          "output_type": "stream",
          "name": "stdout",
          "text": [
            "Mounted at /content/drive\n"
          ]
        }
      ]
    },
    {
      "cell_type": "code",
      "execution_count": null,
      "metadata": {
        "id": "HIv8yx7s2pBW",
        "colab": {
          "base_uri": "https://localhost:8080/",
          "height": 539,
          "referenced_widgets": [
            "aeb661a2d1984366bb49b2b086e56562",
            "5bdb2be652bf46c0a4bc0f64390c0a91",
            "bf381b4f71204608b2adbfc2eaeb4033",
            "6cc1e705e29c4676a3a4c4a2e110f12b",
            "e6d8f4e4878242af9c49cde435e18132",
            "002b885d6c404725b8bf00cdb8e64a4f",
            "65444bdfccc44f7eab113aed6642e25a",
            "3ac2735b7d5140a186e5f0fe0aa3f74c",
            "622d99273c0240bb86ada0603f1008c9",
            "04c61a9392c745c9a4c0d1e8f2a40e14",
            "f32a6da945d946cd89efa6d3f353a49c",
            "ef9e48e3f9b94c479f4a387d7133d716",
            "ded4d1dc704d49a4a98eae962edab1d7",
            "0134152e5a2f4b8d9a19e7408d35c03e",
            "c07334bdf5404eb6b6deea3cc15606e6",
            "6f00213279b24a23a125c323b7ebf292",
            "3946a2aa814d4c49b201d1a2f9ad0277",
            "cb6098b8383c44dea71f6525cf128d2b",
            "f8e6f64850bf480fb136f57e723acc2b",
            "afc0a7b924274561be3010938f84ee53",
            "2eca266e710a4a838b1baaccd4dc2eed",
            "0a55ced0cf024604a976e9fee001b307",
            "9e6aeefb8a6a4b009abfd46e6c99c969",
            "d5c5e17171224e8b93c22feb592ab4f5",
            "c6d436ff6ea04861aeb456d93dcd1f28",
            "e696fc0f82324b7f901c215f82284e6d",
            "0a661ca01f3248d6a0c395cdaeb91d1f",
            "1a3830cf2e694c07803b8f2e3c0ddf21",
            "78e82d285b044f6fbb1b669d6dc57bca",
            "79f5a8c03ca24232bc1c9abacf59fb36",
            "f8fc22084bf94562ac75ed65cfe4265a",
            "5c34d42fba834f8b86d6e9a3f09b3253",
            "fa98034fa81b4694a77c5d0b4695cc52",
            "b14cb93452ea4e539a5183d932e9c6c6",
            "5fc3d76e9b444b71811aaab962dd2d13",
            "73acb927a17e4329b986feb9f23d9104",
            "d9ea9ec78d1a40d68c8cf61a5cc8d321",
            "16ec5fd88d4f430d9a51e476211553d5",
            "451dbc60df0344bcb8ebe32dff77ca1a",
            "2f72785fdb7b49bf9325de34e9bb736a",
            "a939a28f198c4aebbd770d6cee0d29e2",
            "39cf86582d8e4419a4f1a0cc27841601",
            "5cd20fe5d73442169bafd22b7d2b3bc8",
            "020f7bad98eb4d54abed0b8cf6bc43a1",
            "f4ed64f911d74afd9c600fd1c9884a53",
            "ff907e837dd2475eab6f87dc346755f5",
            "b741791be5fd4119902767d9bfcd2383",
            "432c5e7837284e5599bf28a82ca7d0b9",
            "d0e5b514c64d49b39f9dc33759034fd5",
            "c1d50fafa9e64a1dbca3ca0fb421344e",
            "6f17af7de9ee47618dfc16a5ada145c2",
            "530fe6bb0c6e4530aadfe4f0049e41a6",
            "f8cc552ef1bd4257a1bf0325f72f09e9",
            "f9313d22ed7e4255a3e691a7d9a7f65f",
            "e55ebe99d77e4dc7b22268ba5fd8cdd8",
            "8ab34b74f8bb4eaaaaae48194e7815c4",
            "82e59c0a53ad4d00a554109129d9e10e",
            "18d9da40314f410f806f3f9c94fbdb2b",
            "d7d459f000344c1797f96e87056c0fd3",
            "6552dc0bebda46cf8486bd0f23fdaba1",
            "0abd5e6e82744a1f84baeb08869938d0",
            "62cac23d878c4c1b914d59cf03bbc347",
            "9bb403677bac49a6a11662aa76738a94",
            "c8b98bec62b44e3ebb53ae5d7c49d0aa",
            "28ac83bffcc1495ab6e21cc28dded4f6",
            "3875037940b54da8bcd6b96083033252"
          ]
        },
        "outputId": "897d4213-1264-4738-c6ec-a779e3a9cebd"
      },
      "outputs": [
        {
          "output_type": "stream",
          "name": "stdout",
          "text": [
            "Drive already mounted at /content/drive; to attempt to forcibly remount, call drive.mount(\"/content/drive\", force_remount=True).\n",
            "\u001b[2K   \u001b[90m━━━━━━━━━━━━━━━━━━━━━━━━━━━━━━━━━━━━━━━━\u001b[0m \u001b[32m232.6/232.6 kB\u001b[0m \u001b[31m4.2 MB/s\u001b[0m eta \u001b[36m0:00:00\u001b[0m\n",
            "\u001b[?25hRetrieving folder contents\n",
            "Processing file 1wLLHdFS3BTn4dofqJ85We8f9oNfVzSWY Mendo - Principe perfecto.pdf\n",
            "Retrieving folder contents completed\n",
            "Building directory structure\n",
            "Building directory structure completed\n",
            "Downloading...\n",
            "From: https://drive.google.com/uc?id=1wLLHdFS3BTn4dofqJ85We8f9oNfVzSWY\n",
            "To: /content/mendo_folder/Mendo - Principe perfecto.pdf\n",
            "100% 2.37M/2.37M [00:00<00:00, 206MB/s]\n",
            "Download completed\n"
          ]
        },
        {
          "output_type": "stream",
          "name": "stderr",
          "text": [
            "/usr/local/lib/python3.11/dist-packages/huggingface_hub/utils/_auth.py:94: UserWarning: \n",
            "The secret `HF_TOKEN` does not exist in your Colab secrets.\n",
            "To authenticate with the Hugging Face Hub, create a token in your settings tab (https://huggingface.co/settings/tokens), set it as secret in your Google Colab and restart your session.\n",
            "You will be able to reuse this secret in all of your notebooks.\n",
            "Please note that authentication is recommended but still optional to access public models or datasets.\n",
            "  warnings.warn(\n"
          ]
        },
        {
          "output_type": "display_data",
          "data": {
            "text/plain": [
              "config.json:   0%|          | 0.00/1.80k [00:00<?, ?B/s]"
            ],
            "application/vnd.jupyter.widget-view+json": {
              "version_major": 2,
              "version_minor": 0,
              "model_id": "aeb661a2d1984366bb49b2b086e56562"
            }
          },
          "metadata": {}
        },
        {
          "output_type": "display_data",
          "data": {
            "text/plain": [
              "pytorch_model.bin:   0%|          | 0.00/1.22G [00:00<?, ?B/s]"
            ],
            "application/vnd.jupyter.widget-view+json": {
              "version_major": 2,
              "version_minor": 0,
              "model_id": "ef9e48e3f9b94c479f4a387d7133d716"
            }
          },
          "metadata": {}
        },
        {
          "output_type": "display_data",
          "data": {
            "text/plain": [
              "model.safetensors:   0%|          | 0.00/1.22G [00:00<?, ?B/s]"
            ],
            "application/vnd.jupyter.widget-view+json": {
              "version_major": 2,
              "version_minor": 0,
              "model_id": "9e6aeefb8a6a4b009abfd46e6c99c969"
            }
          },
          "metadata": {}
        },
        {
          "output_type": "display_data",
          "data": {
            "text/plain": [
              "tokenizer_config.json:   0%|          | 0.00/26.0 [00:00<?, ?B/s]"
            ],
            "application/vnd.jupyter.widget-view+json": {
              "version_major": 2,
              "version_minor": 0,
              "model_id": "b14cb93452ea4e539a5183d932e9c6c6"
            }
          },
          "metadata": {}
        },
        {
          "output_type": "display_data",
          "data": {
            "text/plain": [
              "vocab.json:   0%|          | 0.00/899k [00:00<?, ?B/s]"
            ],
            "application/vnd.jupyter.widget-view+json": {
              "version_major": 2,
              "version_minor": 0,
              "model_id": "f4ed64f911d74afd9c600fd1c9884a53"
            }
          },
          "metadata": {}
        },
        {
          "output_type": "display_data",
          "data": {
            "text/plain": [
              "merges.txt:   0%|          | 0.00/456k [00:00<?, ?B/s]"
            ],
            "application/vnd.jupyter.widget-view+json": {
              "version_major": 2,
              "version_minor": 0,
              "model_id": "8ab34b74f8bb4eaaaaae48194e7815c4"
            }
          },
          "metadata": {}
        },
        {
          "output_type": "stream",
          "name": "stderr",
          "text": [
            "Device set to use cpu\n"
          ]
        },
        {
          "output_type": "display_data",
          "data": {
            "text/plain": [
              "<IPython.core.display.Javascript object>"
            ],
            "application/javascript": [
              "\n",
              "    async function download(id, filename, size) {\n",
              "      if (!google.colab.kernel.accessAllowed) {\n",
              "        return;\n",
              "      }\n",
              "      const div = document.createElement('div');\n",
              "      const label = document.createElement('label');\n",
              "      label.textContent = `Downloading \"${filename}\": `;\n",
              "      div.appendChild(label);\n",
              "      const progress = document.createElement('progress');\n",
              "      progress.max = size;\n",
              "      div.appendChild(progress);\n",
              "      document.body.appendChild(div);\n",
              "\n",
              "      const buffers = [];\n",
              "      let downloaded = 0;\n",
              "\n",
              "      const channel = await google.colab.kernel.comms.open(id);\n",
              "      // Send a message to notify the kernel that we're ready.\n",
              "      channel.send({})\n",
              "\n",
              "      for await (const message of channel.messages) {\n",
              "        // Send a message to notify the kernel that we're ready.\n",
              "        channel.send({})\n",
              "        if (message.buffers) {\n",
              "          for (const buffer of message.buffers) {\n",
              "            buffers.push(buffer);\n",
              "            downloaded += buffer.byteLength;\n",
              "            progress.value = downloaded;\n",
              "          }\n",
              "        }\n",
              "      }\n",
              "      const blob = new Blob(buffers, {type: 'application/binary'});\n",
              "      const a = document.createElement('a');\n",
              "      a.href = window.URL.createObjectURL(blob);\n",
              "      a.download = filename;\n",
              "      div.appendChild(a);\n",
              "      a.click();\n",
              "      div.remove();\n",
              "    }\n",
              "  "
            ]
          },
          "metadata": {}
        },
        {
          "output_type": "display_data",
          "data": {
            "text/plain": [
              "<IPython.core.display.Javascript object>"
            ],
            "application/javascript": [
              "download(\"download_be077ff1-ec3a-430c-a557-58f7762bb2d7\", \"mendo_summary.txt\", 3099)"
            ]
          },
          "metadata": {}
        }
      ],
      "source": [
        "# STEP 1: Mount user's Google Drive\n",
        "from google.colab import drive\n",
        "drive.mount('/content/drive')\n",
        "\n",
        "# STEP 2: Install required packages\n",
        "!pip install PyPDF2 transformers gdown --quiet\n",
        "\n",
        "# STEP 3: Clone the shared Google Drive folder using gdown (requires folder ID)\n",
        "import os\n",
        "\n",
        "# If folder already exists, skip download\n",
        "if not os.path.exists(\"/content/mendo_folder\"):\n",
        "    !gdown --folder https://drive.google.com/drive/folders/1wE8Wly-JKph8FoycVkAiJoDgL57rP9po -O /content/mendo_folder\n",
        "\n",
        "# STEP 4: Extract text from PDF\n",
        "import PyPDF2\n",
        "from transformers import pipeline\n",
        "\n",
        "pdf_path = \"/content/mendo_folder/Mendo - Principe perfecto.pdf\"\n",
        "\n",
        "def extract_text_from_pdf(pdf_path):\n",
        "    text = \"\"\n",
        "    with open(pdf_path, 'rb') as file:\n",
        "        reader = PyPDF2.PdfReader(file)\n",
        "        for page in reader.pages:\n",
        "            text += page.extract_text() + \"\\n\"\n",
        "    return text.strip()\n",
        "\n",
        "# STEP 5: Summarize text using pretrained LLM\n",
        "def summarize_text(text):\n",
        "    summarizer = pipeline(\"summarization\", model=\"sshleifer/distilbart-cnn-12-6\")\n",
        "    max_chunk = 800\n",
        "    chunks = [text[i:i+max_chunk] for i in range(0, len(text), max_chunk)]\n",
        "\n",
        "    summaries = []\n",
        "    for chunk in chunks:\n",
        "        summary = summarizer(chunk, max_length=120, min_length=30, do_sample=False)[0]['summary_text']\n",
        "        summaries.append(summary)\n",
        "\n",
        "    return \"\\n\\n\".join(summaries)\n",
        "\n",
        "# STEP 6: Run pipeline\n",
        "text = extract_text_from_pdf(pdf_path)\n",
        "summary = summarize_text(text)\n",
        "\n",
        "# STEP 7: Save summary to file\n",
        "summary_path = \"/content/mendo_summary.txt\"\n",
        "with open(summary_path, \"w\") as f:\n",
        "    f.write(summary)\n",
        "\n",
        "# STEP 8: Downloadable link\n",
        "from google.colab import files\n",
        "files.download(summary_path)\n"
      ]
    }
  ]
}